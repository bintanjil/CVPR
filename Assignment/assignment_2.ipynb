{
 "cells": [
  {
   "cell_type": "code",
   "execution_count": 1,
   "id": "e8202ad1",
   "metadata": {},
   "outputs": [],
   "source": [
    "import numpy as np\n",
    "import matplotlib.pyplot as plt\n",
    "import pandas as pd\n",
    "from sklearn.model_selection import train_test_split\n",
    " # Here I have iported all the libraries i need to develop the neural network"
   ]
  },
  {
   "cell_type": "code",
   "execution_count": 2,
   "id": "dcf50ef2-5105-4161-a733-6223801e75ab",
   "metadata": {},
   "outputs": [],
   "source": [
    "data = pd.read_csv('nn_dataset.csv') #read the dataset through panda\n",
    "X = data[['X1', 'X2']].values  # here taking the X1 and X2 as input feature and taking input as an array\n",
    "Y = pd.get_dummies(data['Y']).values # extracting Y as output feature and convert it binary representation by get_dummies as there was 5 classes\n",
    "X_train, X_test, Y_train, Y_test = train_test_split(X, Y, test_size=0.2) # spliting the dataset for training and testing with the ratio of 80:20 precent\n"
   ]
  },
  {
   "cell_type": "code",
   "execution_count": 3,
   "id": "e5937742-d6ad-4ac9-8bac-3123c5ec7fae",
   "metadata": {},
   "outputs": [],
   "source": [
    "class NeuralNetwork(object):\n",
    "    def __init__(self):\n",
    "        inputLayerNeurons = 2  #initialized two neurons for input layer\n",
    "        hiddenLayer1Neurons = 60  #initialized 60 neurons for hidden layer 1\n",
    "        hiddenLayer2Neurons = 30  #initialized 30 neurons for hidden layer 2\n",
    "        hiddenLayer3Neurons = 30  #initialized 30 neurons for hidden layer 3\n",
    "        outLayerNeurons = 5       #initialized 5 neurons for output layer\n",
    "        \n",
    "        self.learning_rate = 0.1\n",
    "        \n",
    "        # set the weighted matrix for each layer randomly\n",
    "        self.W_H1I = np.random.randn(inputLayerNeurons, hiddenLayer1Neurons)  # set the weighted matrix for input layer and hidden layer1 randomly between the number of inputlayer neurons and hidden layer 1 neurons\n",
    "        self.W_H2H1 = np.random.randn(hiddenLayer1Neurons, hiddenLayer2Neurons) # set the weighted matrix for hiddden layer1 and hidden layer2 randomly between the number of hidden layer1 neurons and hidden layer 2 neurons\n",
    "        self.W_H3H2 = np.random.randn(hiddenLayer2Neurons, hiddenLayer3Neurons) # set the weighted matrix for hiddden layer2 and hidden layer3 randomly between the number of hidden layer2 neurons and hidden layer 3 neurons\n",
    "        self.W_OH3 = np.random.randn(hiddenLayer3Neurons, outLayerNeurons) # set the weighted matrix for hiddden layer3 and output layer randomly between the number of output layer neurons\n",
    "        \n",
    "    def sigmoid(self, x, der=False): # initialized sigmoid function as activation function which shapes the values between 0 and 1 and used for classification \n",
    "        if der:\n",
    "            return x * (1-x)\n",
    "        return 1 / (1 + np.exp(-x))\n",
    "    \n",
    "        \n",
    "    def feedForward(self, X): # this function is declared for forword propagation in the network\n",
    "        \n",
    "        # Calculate input and output for first hidden layer\n",
    "        self.hidden1_input = np.dot(X, self.W_H1I) #dot product between the input values and weighted matrix 1\n",
    "        self.hidden1_output = self.sigmoid(self.hidden1_input) #applying activation\n",
    "        \n",
    "        # Calculate input and output for second hidden layer\n",
    "        self.hidden2_input = np.dot(self.hidden1_output, self.W_H2H1) #dot product between the hidden layer 1 output and weighted matrix 2\n",
    "        self.hidden2_output = self.sigmoid(self.hidden2_input) #applying activation\n",
    "        \n",
    "        # Calculate input and output for first hidden layer\n",
    "        self.hidden3_input = np.dot(self.hidden2_output, self.W_H3H2) #dot product between the hidden layer 2 output and weighted matrix 3\n",
    "        self.hidden3_output = self.sigmoid(self.hidden3_input)\n",
    "        \n",
    "        # Calculate the final\n",
    "        output_input = np.dot(self.hidden3_output, self.W_OH3) #dot product between the hidden layer 3 output and weighted matrix 4\n",
    "        pred = self.sigmoid(output_input) #final prediction\n",
    "        return pred\n",
    "        \n",
    "    def backPropagation(self, X, Y, pred): # back propagation\n",
    "        m = 400 # number of dataset for training images\n",
    "        \n",
    "        # Calculate error and delta for output layer\n",
    "        output_error = (pred - Y)/m  # error as derivative\n",
    "        output_delta = output_error #delta for output layer\n",
    "        \n",
    "        # Backpropagation error of hidden layer 3\n",
    "        hidden3_error = np.dot(output_delta, self.W_OH3.T) # Error value from next layer\n",
    "        hidden3_delta = hidden3_error * self.sigmoid(self.hidden3_output, der=True) # Apply derivative\n",
    "        \n",
    "         # Backpropagate error to second hidden layer\n",
    "        hidden2_error = np.dot(hidden3_delta, self.W_H3H2.T) # Error value from next layer\n",
    "        hidden2_delta = hidden2_error * self.sigmoid(self.hidden2_output, der=True) # Apply derivative\n",
    "        \n",
    "        # Backpropagate error to first hidden layer\n",
    "        hidden1_error = np.dot(hidden2_delta, self.W_H2H1.T) # Error value from next layer\n",
    "        hidden1_delta = hidden1_error * self.sigmoid(self.hidden1_output, der=True) # Apply derivative\n",
    "        \n",
    "        \n",
    "        self.W_H1I -= self.learning_rate * np.dot(X.T, hidden1_delta) # Update weights between input and first hidden layer using gradient discent \n",
    "        self.W_H2H1 -= self.learning_rate * np.dot(self.hidden1_output.T, hidden2_delta) # Update weights between first and second hidden layers using gradient discent \n",
    "        self.W_H3H2 -= self.learning_rate * np.dot(self.hidden2_output.T, hidden3_delta)  # Update weights between second and third hidden layers using gradient discent \n",
    "        self.W_OH3 -= self.learning_rate * np.dot(self.hidden3_output.T, output_delta) # Update weights between third hidden layer and output layer using gradient discent \n",
    "     \n",
    "    def train(self, X, Y, epochs=500):\n",
    "        error = [] # list for keeping tracks of the errors\n",
    "        \n",
    "        # loop for training\n",
    "        for i in range(epochs):\n",
    "            \n",
    "            output = self.feedForward(X) #forword propagation\n",
    "            self.backPropagation(X, Y, output) #back propagation\n",
    "            error.append(np.mean(np.square(Y - output))) ## Calculate and store mean squared error\n",
    "            \n",
    "        \n",
    "        # Plot training error\n",
    "        plt.plot(error)\n",
    "        plt.title('Training error')\n",
    "        plt.xlabel('Epoch')\n",
    "        plt.ylabel('Error')\n",
    "        plt.show()"
   ]
  },
  {
   "cell_type": "code",
   "execution_count": 4,
   "id": "bba1fe7b",
   "metadata": {},
   "outputs": [
    {
     "data": {
      "image/png": "[encoded data removed]",
      "text/plain": [
       "<Figure size 640x480 with 1 Axes>"
      ]
     },
     "metadata": {},
     "output_type": "display_data"
    }
   ],
   "source": [
    "\n",
    "NN = NeuralNetwork() #creating an instance for the NeuralNetwork class\n",
    "NN.train(X_train, Y_train) #train the network on training data"
   ]
  },
  {
   "cell_type": "code",
   "execution_count": 5,
   "id": "589b1095-2d3c-46ae-b2f9-25bdcda6ba7f",
   "metadata": {},
   "outputs": [
    {
     "name": "stdout",
     "output_type": "stream",
     "text": [
      "Train Accuracy: 0.94\n"
     ]
    }
   ],
   "source": [
    "# Calls the feedForward() function of the trained neural network (NN) then pass the training data through the network then returns a prediction \n",
    "train_pred = NN.feedForward(X_train)\n",
    "\n",
    "# Calculate training accuracy by comparing predictions with true labels\n",
    "train_accuracy = np.mean(np.argmax(train_pred, axis=1) == np.argmax(Y_train, axis=1))\n",
    "print(f\"Train Accuracy: {train_accuracy:.2f}\")\n"
   ]
  },
  {
   "cell_type": "code",
   "execution_count": 6,
   "id": "bf79695a",
   "metadata": {},
   "outputs": [
    {
     "name": "stdout",
     "output_type": "stream",
     "text": [
      "Predictions:\n",
      "-------------------\n",
      "91 -- 15 -- 4\n",
      "64 -- 73 -- 0\n",
      "78 -- 95 -- 0\n",
      "39 -- 17 -- 2\n",
      "62 -- 47 -- 1\n",
      "91 -- 16 -- 4\n",
      "43 -- 51 -- 0\n",
      "90 -- 42 -- 2\n",
      "94 -- 20 -- 4\n",
      "45 -- 67 -- 0\n",
      "69 -- 5 -- 4\n",
      "77 -- 66 -- 1\n",
      "46 -- 83 -- 0\n",
      "60 -- 75 -- 0\n",
      "92 -- 48 -- 2\n",
      "55 -- 78 -- 0\n",
      "43 -- 11 -- 4\n",
      "89 -- 53 -- 1\n",
      "65 -- 68 -- 0\n",
      "69 -- 54 -- 1\n",
      "42 -- 99 -- 0\n",
      "47 -- 18 -- 2\n",
      "55 -- 46 -- 1\n",
      "48 -- 59 -- 0\n",
      "71 -- 68 -- 1\n",
      "89 -- 71 -- 1\n",
      "86 -- 95 -- 0\n",
      "44 -- 62 -- 0\n",
      "80 -- 51 -- 1\n",
      "94 -- 43 -- 2\n"
     ]
    }
   ],
   "source": [
    "print(\"Predictions:\")\n",
    "print(\"-------------------\")\n",
    "for x in X[:30]:  # First 30 samples\n",
    "    \n",
    "    # Reshape input to match networks expected input format\n",
    "    x_reshaped = x.reshape(1, -1)\n",
    "    probabilities = NN.feedForward(x_reshaped)\n",
    "    \n",
    "    # Get class probabilities from neural network (0-4)\n",
    "    predicted_class = np.argmax(probabilities)\n",
    "    \n",
    "    print(f\"{x[0]} -- {x[1]} -- {predicted_class}\")"
   ]
  },
  {
   "cell_type": "code",
   "execution_count": 7,
   "id": "a1ae2399",
   "metadata": {},
   "outputs": [
    {
     "name": "stdout",
     "output_type": "stream",
     "text": [
      "Test Accuracy: 0.97\n"
     ]
    }
   ],
   "source": [
    "#same as for train data calls the feed forword function from NeuralNetwork class and pass the 100 test data and compute the accuracy comparing the actual values and predicted values\n",
    "test_pred = NN.feedForward(X_test)\n",
    "test_accuracy = np.mean(np.argmax(test_pred, axis=1) == np.argmax(Y_test, axis=1))\n",
    "print(f\"Test Accuracy: {test_accuracy:.2f}\")\n"
   ]
  },
  {
   "cell_type": "code",
   "execution_count": 8,
   "id": "c74984f0-50d5-49c7-af66-017fb5babcf8",
   "metadata": {},
   "outputs": [
    {
     "name": "stdout",
     "output_type": "stream",
     "text": [
      "Test Result:\n",
      "X1\tX2\tY\n",
      "-----------------\n",
      "81\t48\t1\n",
      "46\t98\t0\n",
      "46\t39\t1\n",
      "86\t8\t4\n",
      "60\t12\t4\n",
      "81\t73\t1\n",
      "80\t74\t1\n",
      "44\t62\t0\n",
      "90\t74\t1\n",
      "39\t17\t2\n"
     ]
    }
   ],
   "source": [
    "#here i have printed 10 prediction res\n",
    "print(\"Test Result:\")\n",
    "print(\"X1\\tX2\\tY\")\n",
    "print(\"-----------------\")\n",
    "for i in range(10):\n",
    "    x1, x2 = X_test[i]\n",
    "    pred_class = np.argmax(test_pred[i])\n",
    "    print(f\"{x1}\\t{x2}\\t{pred_class}\")"
   ]
  },
  {
   "cell_type": "code",
   "execution_count": 9,
   "id": "b4a871b8-86aa-4e4f-83e2-fe1954614aa3",
   "metadata": {},
   "outputs": [
    {
     "name": "stdout",
     "output_type": "stream",
     "text": [
      "[0.020345   0.00381562 0.01644663 0.05053963 0.94065248]\n"
     ]
    }
   ],
   "source": [
    "print(NN.feedForward([42,3]))"
   ]
  },
  {
   "cell_type": "code",
   "execution_count": null,
   "id": "b7414e37-151d-4e23-987b-e32951cba24a",
   "metadata": {},
   "outputs": [],
   "source": []
  }
 ],
 "metadata": {
  "kernelspec": {
   "display_name": "Python 3 (ipykernel)",
   "language": "python",
   "name": "python3"
  },
  "language_info": {
   "codemirror_mode": {
    "name": "ipython",
    "version": 3
   },
   "file_extension": ".py",
   "mimetype": "text/x-python",
   "name": "python",
   "nbconvert_exporter": "python",
   "pygments_lexer": "ipython3",
   "version": "3.9.13"
  }
 },
 "nbformat": 4,
 "nbformat_minor": 5
}
